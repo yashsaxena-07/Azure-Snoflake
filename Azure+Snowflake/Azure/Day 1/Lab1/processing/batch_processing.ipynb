{
 "cells": [
  {
   "cell_type": "code",
   "execution_count": 7,
   "id": "159200a0",
   "metadata": {},
   "outputs": [
    {
     "name": "stdout",
     "output_type": "stream",
     "text": [
      "First 5 rows of batch data:\n",
      "   order_id            timestamp customer  amount\n",
      "0         1  2025-09-01 09:05:00     Jack     112\n",
      "1         2  2025-09-01 09:10:00      Ivy     354\n",
      "2         3  2025-09-01 09:15:00    Frank     329\n",
      "3         4  2025-09-01 09:20:00    David     168\n",
      "4         5  2025-09-01 09:25:00     Emma     354\n",
      "\n",
      "Batch total revenue: 27953\n",
      "Batch average order value: 279.53\n",
      "Orders per customer:\n",
      "customer\n",
      "Bob        16\n",
      "David      13\n",
      "Alice      12\n",
      "Ivy         9\n",
      "Hannah      8\n",
      "Charlie     8\n",
      "Zara        8\n",
      "Jack        7\n",
      "Emma        7\n",
      "Frank       6\n",
      "Grace       6\n",
      "Name: count, dtype: int64\n"
     ]
    }
   ],
   "source": [
    "import pandas as pd\n",
    "\n",
    "# Read batch file at once\n",
    "batch_df = pd.read_csv(\"../generators/batch_orders.csv\")\n",
    "\n",
    "print(\"First 5 rows of batch data:\")\n",
    "print(batch_df.head())\n",
    "\n",
    "# Simple analytics\n",
    "print(\"\\nBatch total revenue:\", batch_df['amount'].sum())\n",
    "print(\"Batch average order value:\", batch_df['amount'].mean())\n",
    "print(\"Orders per customer:\")\n",
    "print(batch_df['customer'].value_counts())"
   ]
  }
 ],
 "metadata": {
  "kernelspec": {
   "display_name": "Python 3",
   "language": "python",
   "name": "python3"
  },
  "language_info": {
   "codemirror_mode": {
    "name": "ipython",
    "version": 3
   },
   "file_extension": ".py",
   "mimetype": "text/x-python",
   "name": "python",
   "nbconvert_exporter": "python",
   "pygments_lexer": "ipython3",
   "version": "3.13.5"
  }
 },
 "nbformat": 4,
 "nbformat_minor": 5
}
