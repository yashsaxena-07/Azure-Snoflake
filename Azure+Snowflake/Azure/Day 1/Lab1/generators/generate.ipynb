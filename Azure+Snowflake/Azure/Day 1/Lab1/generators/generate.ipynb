{
 "cells": [
  {
   "cell_type": "code",
   "execution_count": 3,
   "id": "fdfe36bd",
   "metadata": {},
   "outputs": [
    {
     "name": "stdout",
     "output_type": "stream",
     "text": [
      "batch_orders.csv created\n"
     ]
    }
   ],
   "source": [
    "import pandas as pd\n",
    "import random\n",
    "from datetime import datetime, timedelta\n",
    "\n",
    "start_time = datetime(2025, 9, 1, 9, 0, 0)\n",
    "customers = [\"Alice\",\"Bob\",\"Charlie\",\"David\",\"Emma\",\"Frank\",\"Grace\",\"Hannah\",\"Ivy\",\"Jack\",\"Zara\"]\n",
    "\n",
    "orders = []\n",
    "for i in range(1, 101):\n",
    "    ts = start_time + timedelta(minutes=i*5)\n",
    "    cust = random.choice(customers)\n",
    "    amt = random.randint(50, 500)\n",
    "    orders.append([i, ts, cust, amt])\n",
    "\n",
    "df = pd.DataFrame(orders, columns=[\"order_id\",\"timestamp\",\"customer\",\"amount\"])\n",
    "df.to_csv(\"batch_orders.csv\", index=False)\n",
    "print(\"batch_orders.csv created\")"
   ]
  }
 ],
 "metadata": {
  "kernelspec": {
   "display_name": "Python 3",
   "language": "python",
   "name": "python3"
  },
  "language_info": {
   "codemirror_mode": {
    "name": "ipython",
    "version": 3
   },
   "file_extension": ".py",
   "mimetype": "text/x-python",
   "name": "python",
   "nbconvert_exporter": "python",
   "pygments_lexer": "ipython3",
   "version": "3.13.5"
  }
 },
 "nbformat": 4,
 "nbformat_minor": 5
}
